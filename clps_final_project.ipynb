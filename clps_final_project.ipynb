{
  "nbformat": 4,
  "nbformat_minor": 0,
  "metadata": {
    "colab": {
      "provenance": [],
      "authorship_tag": "ABX9TyOfkv+uDmOOqEQsaw4DdP09",
      "include_colab_link": true
    },
    "kernelspec": {
      "name": "python3",
      "display_name": "Python 3"
    },
    "language_info": {
      "name": "python"
    }
  },
  "cells": [
    {
      "cell_type": "markdown",
      "metadata": {
        "id": "view-in-github",
        "colab_type": "text"
      },
      "source": [
        "<a href=\"https://colab.research.google.com/github/andreayiuuu/CLPS950-Ai---Andrea/blob/main/clps_final_project.ipynb\" target=\"_parent\"><img src=\"https://colab.research.google.com/assets/colab-badge.svg\" alt=\"Open In Colab\"/></a>"
      ]
    },
    {
      "cell_type": "code",
      "execution_count": 10,
      "metadata": {
        "id": "adFEBl2e4geC",
        "outputId": "c26e468a-1636-4a14-bcf5-8ad5d534b1e6",
        "colab": {
          "base_uri": "https://localhost:8080/"
        }
      },
      "outputs": [
        {
          "output_type": "stream",
          "name": "stdout",
          "text": [
            "Shift 0: KHOOR ZRUOG\n",
            "Shift 1: JGNNQ YQTNF\n",
            "Shift 2: IFMMP XPSME\n",
            "Shift 3: HELLO WORLD\n",
            "Shift 4: GDKKN VNQKC\n",
            "Shift 5: FCJJM UMPJB\n",
            "Shift 6: EBIIL TLOIA\n",
            "Shift 7: DAHHK SKNHZ\n",
            "Shift 8: CZGGJ RJMGY\n",
            "Shift 9: BYFFI QILFX\n",
            "Shift 10: AXEEH PHKEW\n",
            "Shift 11: ZWDDG OGJDV\n",
            "Shift 12: YVCCF NFICU\n",
            "Shift 13: XUBBE MEHBT\n",
            "Shift 14: WTAAD LDGAS\n",
            "Shift 15: VSZZC KCFZR\n",
            "Shift 16: URYYB JBEYQ\n",
            "Shift 17: TQXXA IADXP\n",
            "Shift 18: SPWWZ HZCWO\n",
            "Shift 19: ROVVY GYBVN\n",
            "Shift 20: QNUUX FXAUM\n",
            "Shift 21: PMTTW EWZTL\n",
            "Shift 22: OLSSV DVYSK\n",
            "Shift 23: NKRRU CUXRJ\n",
            "Shift 24: MJQQT BTWQI\n",
            "Shift 25: LIPPS ASVPH\n"
          ]
        }
      ],
      "source": [
        "import string\n",
        "\n",
        "def brute_force_caesar(text):\n",
        "    text = text.upper()\n",
        "    for shift in range(26):\n",
        "        deciphered_text = ''.join(\n",
        "            chr((ord(char) - 65 - shift) % 26 + 65) if char.isalpha() else char\n",
        "            for char in text\n",
        "        )\n",
        "        print(f\"Shift {shift}: {deciphered_text}\")\n",
        "\n",
        "ciphertext = \"KHOOR ZRUOG\"\n",
        "brute_force_caesar(ciphertext)\n",
        "\n"
      ]
    }
  ]
}